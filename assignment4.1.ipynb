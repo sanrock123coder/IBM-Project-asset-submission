def getSample(df,spark):
    return df.sample(False, 0.1)#YOUR CODE GOES HERE

